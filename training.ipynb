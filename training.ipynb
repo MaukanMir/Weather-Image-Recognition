{
 "cells": [
  {
   "cell_type": "markdown",
   "metadata": {},
   "source": [
    "# Weather Image Recognition"
   ]
  },
  {
   "cell_type": "markdown",
   "metadata": {},
   "source": [
    "# Imports"
   ]
  },
  {
   "cell_type": "code",
   "execution_count": 17,
   "metadata": {},
   "outputs": [],
   "source": [
    "import os\n",
    "\n",
    "import pandas as pd\n",
    "import numpy as np\n",
    "import matplotlib.pyplot as plt\n",
    "import seaborn as sns\n",
    "\n",
    "from PIL import Image, ImageFile\n",
    "\n",
    "from sklearn.metrics import classification_report, confusion_matrix\n",
    "from sklearn.model_selection import train_test_split\n",
    "from sklearn.preprocessing import LabelEncoder\n",
    "\n",
    "from keras.preprocessing.image import ImageDataGenerator\n",
    "from tensorflow.keras.models import Sequential, Model\n",
    "from tensorflow.keras.layers import Conv2D, MaxPooling2D, Flatten, Dense, Dropout\n",
    "from tensorflow.keras.callbacks import EarlyStopping"
   ]
  },
  {
   "cell_type": "markdown",
   "metadata": {},
   "source": [
    "# Functions"
   ]
  },
  {
   "cell_type": "code",
   "execution_count": 21,
   "metadata": {},
   "outputs": [],
   "source": [
    "ImageFile.LOAD_TRUNCATED_IMAGES = True\n",
    "\n",
    "def load_process_images(img_path, target_size=(250, 250)):\n",
    "  try:\n",
    "    with Image.open(img_path) as img:\n",
    "      img = img.resize(target_size)\n",
    "      img = img.convert(\"RGB\")\n",
    "      \n",
    "      img_array = np.array(img)/ 255.0\n",
    "      img_array = img_array.astype(np.float32)\n",
    "    return img_array\n",
    "  except IOError as e:\n",
    "    print(f\"Error loading image {img_path}: {e}\")\n",
    "    return None\n",
    "\n",
    "def grab_images(directory):\n",
    "  \n",
    "  images, labels = [], []\n",
    "\n",
    "  for root, dir, files in os.walk(directory):\n",
    "    for file in files:\n",
    "      if file.lower().endswith((\".png\", \".jpeg\", \"jpg\")):\n",
    "        file_path = os.path.join(root, file)\n",
    "        img = load_process_images(file_path)\n",
    "        if img is not None:\n",
    "          images.append(img)\n",
    "          label = root.split(os.sep)[-1]\n",
    "          labels.append(label)\n",
    "  \n",
    "  images, labels = np.array(images), np.array(labels)\n",
    "  return images, labels\n",
    "\n",
    "def check_image_class_balance(target):\n",
    "  unique, counts = np.unique(target, return_counts=True)\n",
    "  plt.figure(figsize=(10,6))\n",
    "  plt.pie(counts, labels=unique, autopct=\"%1.1f%%\", startangle=140)\n",
    "  plt.title(\"Target Class Breakdown\")\n",
    "  plt.show()\n",
    "  \n",
    "  plt.figure(figsize=(10,6))\n",
    "  sns.countplot(x=target)\n",
    "  plt.xlabel(\"Target Classes\")\n",
    "  plt.ylabel(\"Counts\")\n",
    "  plt.title(\"Count plot of target classes\")\n",
    "  plt.xticks(rotation=45)\n",
    "  plt.show()"
   ]
  },
  {
   "cell_type": "markdown",
   "metadata": {},
   "source": [
    "# Load Dataset"
   ]
  },
  {
   "cell_type": "code",
   "execution_count": 3,
   "metadata": {},
   "outputs": [],
   "source": [
    "PATH = \"/Users/maukanmir/Downloads/dataset/\""
   ]
  },
  {
   "cell_type": "code",
   "execution_count": 13,
   "metadata": {},
   "outputs": [],
   "source": [
    "X, y = grab_images(PATH)"
   ]
  },
  {
   "cell_type": "code",
   "execution_count": 18,
   "metadata": {},
   "outputs": [],
   "source": [
    "X_train_val, X_test, y_train_val, y_test = train_test_split(X, y, test_size=0.2, random_state=42, stratify=y)\n",
    "X_train, X_val, y_train, y_val = train_test_split(X_train_val, y_train_val, test_size=0.25, random_state=42, stratify=y_train_val)"
   ]
  },
  {
   "cell_type": "code",
   "execution_count": 20,
   "metadata": {},
   "outputs": [
    {
     "name": "stdout",
     "output_type": "stream",
     "text": [
      "Training set size: 4116\n",
      "Validation set size: 1373\n",
      "Test set size: 1373\n"
     ]
    }
   ],
   "source": [
    "print(f'Training set size: {X_train.shape[0]}')\n",
    "print(f'Validation set size: {X_val.shape[0]}')\n",
    "print(f'Test set size: {X_test.shape[0]}')"
   ]
  },
  {
   "cell_type": "code",
   "execution_count": null,
   "metadata": {},
   "outputs": [],
   "source": []
  }
 ],
 "metadata": {
  "kernelspec": {
   "display_name": "machine-learning-env",
   "language": "python",
   "name": "python3"
  },
  "language_info": {
   "codemirror_mode": {
    "name": "ipython",
    "version": 3
   },
   "file_extension": ".py",
   "mimetype": "text/x-python",
   "name": "python",
   "nbconvert_exporter": "python",
   "pygments_lexer": "ipython3",
   "version": "3.9.19"
  }
 },
 "nbformat": 4,
 "nbformat_minor": 2
}
